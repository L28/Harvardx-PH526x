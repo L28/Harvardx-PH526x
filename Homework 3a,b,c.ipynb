{
 "cells": [
  {
   "cell_type": "markdown",
   "metadata": {},
   "source": [
    "for each number, we are adding up the neighbors \n",
    "and deviding them by the number of neighboors x[2,3] would be x[2.5,2.5] #Markdown\n",
    "\n",
    "\n",
    "    \n"
   ]
  },
  {
   "cell_type": "code",
   "execution_count": 24,
   "metadata": {},
   "outputs": [
    {
     "name": "stdout",
     "output_type": "stream",
     "text": [
      "[3.3333333333333335, 5.0, 6.0, 3.0, 3.0, 3.6666666666666665]\n",
      "👋, 🌏!\n"
     ]
    }
   ],
   "source": [
    "def moving_window_average(x,n_neighbors):\n",
    "    n=len(x)\n",
    "    width=n_neighbors*2+1 # on both sides plus the element itself\n",
    "    x=[x[0]]*n_neighbors + x + [x[-1]]*n_neighbors \n",
    "    # the first and last element are multiplied by the number of neighbors, \n",
    "    #then the lists are concatinated by the + operator\n",
    "    # x is reassigned\n",
    "    return[sum(x[i:(i+width)])/width for i in range(n)]\n",
    "x=[0,10,5,3,1,5]\n",
    "print(moving_window_average(x,1))\n",
    "    \n",
    "print(\"\\N{WAVING HAND SIGN}, \\N{EARTH GLOBE ASIA-AUSTRALIA}!\")\n",
    "    \n",
    "    \n",
    "    "
   ]
  },
  {
   "cell_type": "code",
   "execution_count": 16,
   "metadata": {},
   "outputs": [
    {
     "name": "stdout",
     "output_type": "stream",
     "text": [
      "0.45325045824763405\n",
      "[0.9973152343362711, 0.5042284086774562, 0.5042284086774562, 0.5042284086774562, 0.5042284086774562, 0.5042284086774562, 0.5042284086774562, 0.5042284086774562, 0.5042284086774562, 0.5042284086774562]\n"
     ]
    }
   ],
   "source": [
    "random.seed(1) # This line fixes the value called by your function,\n",
    "               # and is used for answer-checking.\n",
    "    \n",
    "# write your code here!\n",
    "    \n",
    "R = 1000\n",
    "x=random\n",
    "x = [random.uniform(0, 1) for i in range(0, 1000)] #Return a random floating point number N such that\n",
    "   #a <= N <= b for a <= b \n",
    "   #and b <= N <= a for b < a.\n",
    "Y = [x] + [moving_window_average(x, n_neighbors=5) for n_neighbors in range(1, 10)]\n",
    "print(Y[5][9])\n",
    "\n",
    "#For each list in Y, calculate and store the range (the maximum minus the minimum) in a new list ranges.\n",
    "#Print your answer. As the window width increases, does the range of each list increase or decrease? Why do you think that is?\n",
    "#As window width increases, does the range of each list increase or decrease?\n",
    "\n",
    "ranges = [max(x) - min(x) for x in Y]\n",
    "print(ranges) #-> it is decreasing"
   ]
  },
  {
   "cell_type": "code",
   "execution_count": null,
   "metadata": {},
   "outputs": [],
   "source": []
  }
 ],
 "metadata": {
  "kernelspec": {
   "display_name": "Python 3",
   "language": "python",
   "name": "python3"
  },
  "language_info": {
   "codemirror_mode": {
    "name": "ipython",
    "version": 3
   },
   "file_extension": ".py",
   "mimetype": "text/x-python",
   "name": "python",
   "nbconvert_exporter": "python",
   "pygments_lexer": "ipython3",
   "version": "3.7.4"
  }
 },
 "nbformat": 4,
 "nbformat_minor": 2
}
