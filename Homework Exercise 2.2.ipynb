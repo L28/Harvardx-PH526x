{
 "cells": [
  {
   "cell_type": "code",
   "execution_count": 14,
   "metadata": {},
   "outputs": [
    {
     "name": "stdout",
     "output_type": "stream",
     "text": [
      "1.4142135623730951\n",
      "0.774\n"
     ]
    }
   ],
   "source": [
    "import random, math\n",
    "\n",
    "random.seed(1) # Fixes the seed of the random number generator.\n",
    "\n",
    "def ran():\n",
    "    x= random.uniform(-1,1)\n",
    "    return x\n",
    "ran()\n",
    "x=(0,0)\n",
    "y=(1,1)\n",
    "\n",
    "def distance(x,y):\n",
    "        square_dif=[(x[i]-y[i])**2 for i in range(len(x))] #vector length is the same\n",
    "        return math.sqrt(sum(square_dif))\n",
    "print(distance(x,y))\n",
    "\n",
    "\n",
    "def in_circle(x,o=[0,0]):\n",
    "    if distance(x,o) <1:\n",
    "        return True\n",
    "    else: \n",
    "        return False\n",
    "\n",
    "R=1000\n",
    "X=[]\n",
    "inside=[]\n",
    "for i in range(R):\n",
    "    point=[ran(),ran()]\n",
    "    X.append(point)\n",
    "    inside.append(in_circle(X[i],o=[0]*2))\n",
    "print(sum(inside)/R)"
   ]
  },
  {
   "cell_type": "code",
   "execution_count": 18,
   "metadata": {},
   "outputs": [
    {
     "name": "stdout",
     "output_type": "stream",
     "text": [
      "0.771\n"
     ]
    }
   ],
   "source": [
    "random.seed(1) # Fi\n",
    "\n",
    "R=1000\n",
    "X=[]\n",
    "inside=[]\n",
    "for i in range(R):\n",
    "    point=[ran(),ran()]\n",
    "    X.append(point)\n",
    "    inside.append(in_circle(X[i],o=[0]*2))\n",
    "e= print(sum(inside)/R)"
   ]
  },
  {
   "cell_type": "code",
   "execution_count": 24,
   "metadata": {},
   "outputs": [
    {
     "data": {
      "text/plain": [
       "0.7853981633974483"
      ]
     },
     "execution_count": 24,
     "metadata": {},
     "output_type": "execute_result"
    }
   ],
   "source": [
    "math.pi/4\n"
   ]
  },
  {
   "cell_type": "code",
   "execution_count": 31,
   "metadata": {},
   "outputs": [
    {
     "name": "stdout",
     "output_type": "stream",
     "text": [
      "0.01439816339744826\n"
     ]
    }
   ],
   "source": [
    "0.785-0.779 "
   ]
  },
  {
   "cell_type": "code",
   "execution_count": null,
   "metadata": {},
   "outputs": [],
   "source": []
  }
 ],
 "metadata": {
  "kernelspec": {
   "display_name": "Python 3",
   "language": "python",
   "name": "python3"
  }
 },
 "nbformat": 4,
 "nbformat_minor": 2
}
